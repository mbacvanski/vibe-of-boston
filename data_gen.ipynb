{
 "cells": [
  {
   "cell_type": "markdown",
   "metadata": {
    "colab_type": "text",
    "id": "21RGJj1IZ-4g"
   },
   "source": [
    "# Listings"
   ]
  },
  {
   "cell_type": "code",
   "execution_count": null,
   "metadata": {
    "colab": {
     "base_uri": "https://localhost:8080/",
     "height": 190
    },
    "colab_type": "code",
    "id": "h6kf1rCRR2xK",
    "outputId": "9e55e8d0-603c-469d-d251-68224db07ec1"
   },
   "outputs": [],
   "source": [
    "import pandas as pd\n",
    "\n",
    "df_2020_03 = pd.read_csv('http://data.insideairbnb.com/united-states/ma/boston/2020-03-16/data/listings.csv.gz', compression='gzip')\n",
    "df_2019_18 = pd.read_csv('http://data.insideairbnb.com/united-states/ma/boston/2019-10-18/data/listings.csv.gz', compression='gzip')\n",
    "df_2018_10 = pd.read_csv('http://data.insideairbnb.com/united-states/ma/boston/2018-10-11/data/listings.csv.gz', compression='gzip')\n",
    "df_2017_10 = pd.read_csv('http://data.insideairbnb.com/united-states/ma/boston/2017-10-06/data/listings.csv.gz', compression='gzip')\n",
    "df_2016_09 = pd.read_csv('http://data.insideairbnb.com/united-states/ma/boston/2016-09-07/data/listings.csv.gz', compression='gzip')\n",
    "df_2015_10 = pd.read_csv('http://data.insideairbnb.com/united-states/ma/boston/2015-10-03/data/listings.csv.gz', compression='gzip')\n",
    "\n",
    "df_original_listings = pd.concat([df_2020_03, df_2019_18, df_2018_10, df_2017_10, df_2016_09, df_2015_10]).drop_duplicates('id')\n",
    "print('Len total =', len(df_original_listings))"
   ]
  },
  {
   "cell_type": "code",
   "execution_count": null,
   "metadata": {
    "colab": {},
    "colab_type": "code",
    "id": "B7MOCzKuR5fj"
   },
   "outputs": [],
   "source": [
    "df_listings = df_original_listings\n",
    "df_listings = df_listings.replace('nan', '', regex=True)\n",
    "df_listings['summary'] = df_listings['summary'].astype(str)\n",
    "df_listings['space'] = df_listings['space'].astype(str)\n",
    "df_listings['description'] = df_listings['description'].astype(str)\n",
    "df_listings['neighborhood_overview'] = df_listings['neighborhood_overview'].astype(str)\n",
    "df_listings['host_neighbourhood'] = df_listings['host_neighbourhood'].astype(str)\n",
    "df_listings['neighbourhood_cleansed'] = df_listings['neighbourhood_cleansed'].astype(str)\n",
    "df_listings['notes'] = df_listings['notes'].astype(str)\n",
    "df_listings['review_scores_rating'] = df_listings['review_scores_rating'].astype(float)\n",
    "df_listings = df_listings[df_listings['review_scores_rating'].notna()]\n",
    "print(len(df_listings))\n",
    "df_listings['review_scores_rating']"
   ]
  },
  {
   "cell_type": "code",
   "execution_count": null,
   "metadata": {
    "colab": {
     "base_uri": "https://localhost:8080/",
     "height": 119
    },
    "colab_type": "code",
    "id": "H5ZijdxcR_fL",
    "outputId": "0f520d45-efa7-40b8-df7b-bee64d1776cf"
   },
   "outputs": [],
   "source": [
    "from collections import Counter\n",
    "from itertools import chain\n",
    "import itertools\n",
    "import string\n",
    "import re\n",
    "\n",
    "from nltk.corpus import stopwords\n",
    "import nltk\n",
    "nltk.download('stopwords')\n",
    "nltk.download('averaged_perceptron_tagger')\n",
    "\n",
    "stop_words = set(stopwords.words('english'))\n",
    "\n",
    "def get_neighborhood_adjectives(name):\n",
    "  neigh = df_listings.loc[df_listings['neighbourhood_cleansed'] == name]\n",
    "\n",
    "  overviews = [n.split() for n in neigh['neighborhood_overview']]\n",
    "  adjectives = []\n",
    "  for overview in overviews:\n",
    "    useless_words = ['many', 'great', 'nearby', 'short', 'major', 'north', 'south', 'east', 'west', 'easy', 'true', 'local', 'public', 'mi', 'several', 'such', 'main', 'other']\n",
    "    text = [word for word in overview if word.lower() not in useless_words]\n",
    "    text = re.sub('[^\\w\\s]+', '', ' '.join(text))\n",
    "    tagged = nltk.FreqDist(nltk.pos_tag(text.split()))\n",
    "    jj = [wt[0] for (wt, _) in tagged.most_common() if wt[1] == 'JJ']\n",
    "    adjectives.append(jj)\n",
    "\n",
    "  flatAdjectives = list(itertools.chain.from_iterable(adjectives))\n",
    "\n",
    "  counter = Counter(flatAdjectives)\n",
    "  return (len(neigh), counter)\n",
    "\n",
    "# north_end = get_neighborhood_adjectives('North End')\n",
    "# print('In north end:', north_end[0])\n",
    "# print('North end is:', north_end[1])"
   ]
  },
  {
   "cell_type": "code",
   "execution_count": null,
   "metadata": {
    "colab": {},
    "colab_type": "code",
    "id": "X5pEcpPaSA73"
   },
   "outputs": [],
   "source": [
    "# for neighborhood in df_listings['neighbourhood_cleansed'].unique():\n",
    "#     ads = get_neighborhood_adjectives(neighborhood)\n",
    "#     print(neighborhood, ':', ads[0])\n",
    "#     print(neighborhood, 'is:', ads[1].most_common(5))"
   ]
  },
  {
   "cell_type": "markdown",
   "metadata": {
    "colab_type": "text",
    "id": "KPsaep7TZ6-J"
   },
   "source": [
    "# Reviews"
   ]
  },
  {
   "cell_type": "code",
   "execution_count": null,
   "metadata": {
    "colab": {
     "base_uri": "https://localhost:8080/",
     "height": 34
    },
    "colab_type": "code",
    "id": "oYM0cRdEZ9kv",
    "outputId": "8df86a07-27e3-481c-b7c4-8d5249739483"
   },
   "outputs": [],
   "source": [
    "import pandas as pd\n",
    "\n",
    "reviews_2020_03 = pd.read_csv('http://data.insideairbnb.com/united-states/ma/boston/2020-03-16/data/reviews.csv.gz', compression='gzip')\n",
    "reviews_2019_18 = pd.read_csv('http://data.insideairbnb.com/united-states/ma/boston/2019-10-18/data/reviews.csv.gz', compression='gzip')\n",
    "reviews_2018_10 = pd.read_csv('http://data.insideairbnb.com/united-states/ma/boston/2018-10-11/data/reviews.csv.gz', compression='gzip')\n",
    "reviews_2017_10 = pd.read_csv('http://data.insideairbnb.com/united-states/ma/boston/2017-10-06/data/reviews.csv.gz', compression='gzip')\n",
    "reviews_2016_09 = pd.read_csv('http://data.insideairbnb.com/united-states/ma/boston/2016-09-07/data/reviews.csv.gz', compression='gzip')\n",
    "reviews_2015_10 = pd.read_csv('http://data.insideairbnb.com/united-states/ma/boston/2015-10-03/data/reviews.csv.gz', compression='gzip')\n",
    "\n",
    "df_reviews = pd.concat([reviews_2020_03, reviews_2019_18, reviews_2018_10, reviews_2017_10, reviews_2016_09, reviews_2015_10])\n",
    "df_reviews['comments'] = df_reviews['comments'].astype(str)\n",
    "print('Len total =', len(df_reviews))"
   ]
  },
  {
   "cell_type": "code",
   "execution_count": null,
   "metadata": {
    "colab": {
     "base_uri": "https://localhost:8080/",
     "height": 419
    },
    "colab_type": "code",
    "id": "-A0FoZNRa1eX",
    "outputId": "b65c1588-5071-427a-fe8b-59fb2fb7f6f3",
    "scrolled": true
   },
   "outputs": [],
   "source": [
    "df_reviews"
   ]
  },
  {
   "cell_type": "markdown",
   "metadata": {
    "colab_type": "text",
    "id": "gvZp5O32cjrS"
   },
   "source": [
    "# Vibe Vectors"
   ]
  },
  {
   "cell_type": "code",
   "execution_count": null,
   "metadata": {
    "colab": {},
    "colab_type": "code",
    "id": "lgh4KTu3cmO2"
   },
   "outputs": [],
   "source": [
    "vibedict = []\n",
    "\n",
    "for neighborhood in df_listings['neighbourhood_cleansed'].unique():\n",
    "  neighborhood_adjectives = get_neighborhood_adjectives(neighborhood)[1]\n",
    "  adjectives = list(neighborhood_adjectives)\n",
    "  frequencies = [neighborhood_adjectives[adjective] for adjective in adjectives]\n",
    "\n",
    "  # for each listing within this neighborhood\n",
    "  for listing_id in df_listings.loc[df_listings['neighbourhood_cleansed'] == neighborhood]['id']:\n",
    "    comments_list = df_reviews.loc[df_reviews['listing_id'] == listing_id]['comments'].tolist()\n",
    "    if len(comments_list) == 0:\n",
    "      continue\n",
    "\n",
    "    # Neighborhood accuracy is essentially the dot product between the neighborhood description\n",
    "    # and the reviews left for the place. This indicates the accuracy of the neighborhood\n",
    "    # description and the vibe that people who stayed felt.\n",
    "\n",
    "    # Neighborhood accuracy is the sum of the number of adjectives that appear \n",
    "    # in both the neighborhood description and in the reviews for a listing,\n",
    "    # weighted by the frequency by which those adjectives occur in all \n",
    "    # neighborhood descriptions within that neighborhood. \n",
    "    neighborhood_accuracy = 0\n",
    "\n",
    "    listing_comments = re.sub('[^\\w\\s]+', '', ' '.join(comments_list)).split()\n",
    "    comment_freq = Counter(listing_comments)\n",
    "    comment_words = list(comment_freq.keys())\n",
    "\n",
    "    for i in range(len(adjectives)):\n",
    "      if (adjectives[i] in comment_words):\n",
    "        neighborhood_accuracy += frequencies[i] * comment_freq[adjectives[i]]\n",
    "        # neighborhood_accuracy += 1\n",
    "\n",
    "    rating = df_listings.loc[df_listings['id'] == listing_id]['review_scores_rating']    \n",
    "    if len(rating) == 0:\n",
    "      print('listing id:', listing_id, 'rating:', rating)    \n",
    "    neighborhood_accuracy /= len(comments_list)\n",
    "    vibedict.append({'listing_id': listing_id,\n",
    "                     'lat': df_listings.loc[df_listings['id'] == listing_id]['latitude'].values[0],\n",
    "                     'lon': df_listings.loc[df_listings['id'] == listing_id]['longitude'].values[0],\n",
    "                     'rating': df_listings.loc[df_listings['id'] == listing_id]['review_scores_rating'].values[0], \n",
    "                     'neighborhood_accuracy': neighborhood_accuracy, \n",
    "                     'num_reviews': len(comments_list)})\n",
    "\n",
    "vibetable = pd.DataFrame(columns=['listing_id', 'lat', 'lon', 'rating',  'neighborhood_accuracy', 'num_reviews'])\n",
    "vibetable = vibetable.append(vibedict, ignore_index=True)"
   ]
  },
  {
   "cell_type": "code",
   "execution_count": null,
   "metadata": {},
   "outputs": [],
   "source": [
    "scaled_table = vibetable\n",
    "\n",
    "perception_accuracy = vibetable['neighborhood_accuracy']\n",
    "perception_90 = np.quantile(perception_accuracy, .95)\n",
    "scaled_table['neighborhood_accuracy'] = vibetable['neighborhood_accuracy'].div(perception_90).clip(upper=1)\n",
    "\n",
    "num_reviews = vibetable['num_reviews']\n",
    "reviews_90 = np.quantile(num_reviews, .95)\n",
    "scaled_table['num_reviews'] = vibetable['num_reviews'].div(reviews_90).clip(upper=1)\n",
    "\n",
    "ratings = vibetable['rating']\n",
    "ratings_90 = np.quantile(ratings, .95)\n",
    "scaled_table['rating'] = np.log(vibetable['rating'].div(ratings_90).clip(upper=1))\n",
    "\n"
   ]
  },
  {
   "cell_type": "code",
   "execution_count": null,
   "metadata": {
    "colab": {
     "base_uri": "https://localhost:8080/",
     "height": 419
    },
    "colab_type": "code",
    "id": "wxbp2ItFQjkF",
    "outputId": "876463ff-21cc-4857-d677-82148648a8e6"
   },
   "outputs": [],
   "source": [
    "scaled_table.to_csv(\"dist/data/vibetable.csv\", index=False)\n",
    "scaled_table.to_json(\"dist/data/vibetable.json\", orient='index')"
   ]
  },
  {
   "cell_type": "code",
   "execution_count": null,
   "metadata": {},
   "outputs": [],
   "source": [
    "import matplotlib.pyplot as plt\n",
    "plt.hist(scaled_table['rating'], bins=50)"
   ]
  },
  {
   "cell_type": "code",
   "execution_count": null,
   "metadata": {},
   "outputs": [],
   "source": [
    "df_listings.iloc[1]['id']"
   ]
  },
  {
   "cell_type": "code",
   "execution_count": null,
   "metadata": {},
   "outputs": [],
   "source": [
    "df_listings.loc[df_listings['id'] == 5506]['review_scores_rating'].values[0]"
   ]
  },
  {
   "cell_type": "code",
   "execution_count": null,
   "metadata": {},
   "outputs": [],
   "source": [
    "list(df_reviews)"
   ]
  },
  {
   "cell_type": "code",
   "execution_count": null,
   "metadata": {},
   "outputs": [],
   "source": [
    "df_reviews\n"
   ]
  },
  {
   "cell_type": "code",
   "execution_count": null,
   "metadata": {},
   "outputs": [],
   "source": [
    "len(df_reviews)"
   ]
  },
  {
   "cell_type": "code",
   "execution_count": null,
   "metadata": {},
   "outputs": [],
   "source": []
  }
 ],
 "metadata": {
  "celltoolbar": "Raw Cell Format",
  "colab": {
   "collapsed_sections": [],
   "name": "Airbnb Adjectives.ipynb",
   "provenance": [],
   "toc_visible": true
  },
  "kernelspec": {
   "display_name": "Python 3",
   "language": "python",
   "name": "python3"
  },
  "language_info": {
   "codemirror_mode": {
    "name": "ipython",
    "version": 3
   },
   "file_extension": ".py",
   "mimetype": "text/x-python",
   "name": "python",
   "nbconvert_exporter": "python",
   "pygments_lexer": "ipython3",
   "version": "3.7.6"
  }
 },
 "nbformat": 4,
 "nbformat_minor": 1
}
