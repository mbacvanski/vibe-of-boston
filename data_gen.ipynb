{
 "cells": [
  {
   "cell_type": "markdown",
   "metadata": {
    "colab_type": "text",
    "id": "21RGJj1IZ-4g"
   },
   "source": [
    "# Listings"
   ]
  },
  {
   "cell_type": "code",
   "execution_count": 1,
   "metadata": {
    "colab": {
     "base_uri": "https://localhost:8080/",
     "height": 190
    },
    "colab_type": "code",
    "id": "h6kf1rCRR2xK",
    "outputId": "9e55e8d0-603c-469d-d251-68224db07ec1"
   },
   "outputs": [
    {
     "name": "stdout",
     "output_type": "stream",
     "text": [
      "Len total = 12480\n",
      "9684\n"
     ]
    },
    {
     "data": {
      "text/plain": [
       "0        99.0\n",
       "1        95.0\n",
       "2        96.0\n",
       "3        93.0\n",
       "4        95.0\n",
       "        ...  \n",
       "2552     96.0\n",
       "2554     99.0\n",
       "2555     99.0\n",
       "2556    100.0\n",
       "2557     87.0\n",
       "Name: review_scores_rating, Length: 9684, dtype: float64"
      ]
     },
     "execution_count": 1,
     "metadata": {},
     "output_type": "execute_result"
    }
   ],
   "source": [
    "import pandas as pd\n",
    "\n",
    "df_2020_03 = pd.read_csv('http://data.insideairbnb.com/united-states/ma/boston/2020-03-16/data/listings.csv.gz', compression='gzip')\n",
    "df_2019_18 = pd.read_csv('http://data.insideairbnb.com/united-states/ma/boston/2019-10-18/data/listings.csv.gz', compression='gzip')\n",
    "df_2018_10 = pd.read_csv('http://data.insideairbnb.com/united-states/ma/boston/2018-10-11/data/listings.csv.gz', compression='gzip')\n",
    "df_2017_10 = pd.read_csv('http://data.insideairbnb.com/united-states/ma/boston/2017-10-06/data/listings.csv.gz', compression='gzip')\n",
    "df_2016_09 = pd.read_csv('http://data.insideairbnb.com/united-states/ma/boston/2016-09-07/data/listings.csv.gz', compression='gzip')\n",
    "df_2015_10 = pd.read_csv('http://data.insideairbnb.com/united-states/ma/boston/2015-10-03/data/listings.csv.gz', compression='gzip')\n",
    "\n",
    "df_original_listings = pd.concat([df_2020_03, df_2019_18, df_2018_10, df_2017_10, df_2016_09, df_2015_10]).drop_duplicates('id')\n",
    "print('Len total =', len(df_original_listings))\n",
    "\n",
    "df_listings = df_original_listings.copy()\n",
    "df_listings = df_listings.replace('nan', '', regex=True)\n",
    "df_listings['summary'] = df_listings['summary'].astype(str)\n",
    "df_listings['space'] = df_listings['space'].astype(str)\n",
    "df_listings['description'] = df_listings['description'].astype(str)\n",
    "df_listings['neighborhood_overview'] = df_listings['neighborhood_overview'].astype(str)\n",
    "df_listings['host_neighbourhood'] = df_listings['host_neighbourhood'].astype(str)\n",
    "df_listings['neighbourhood_cleansed'] = df_listings['neighbourhood_cleansed'].astype(str)\n",
    "df_listings['notes'] = df_listings['notes'].astype(str)\n",
    "df_listings['review_scores_rating'] = df_listings['review_scores_rating'].astype(float)\n",
    "df_listings = df_listings[df_listings['review_scores_rating'].notna()]\n",
    "print(len(df_listings))\n",
    "df_listings['review_scores_rating']"
   ]
  },
  {
   "cell_type": "code",
   "execution_count": 2,
   "metadata": {
    "colab": {
     "base_uri": "https://localhost:8080/",
     "height": 119
    },
    "colab_type": "code",
    "id": "H5ZijdxcR_fL",
    "outputId": "0f520d45-efa7-40b8-df7b-bee64d1776cf"
   },
   "outputs": [
    {
     "name": "stdout",
     "output_type": "stream",
     "text": [
      "True\n"
     ]
    }
   ],
   "source": [
    "from collections import Counter\n",
    "from itertools import chain\n",
    "import itertools\n",
    "import string\n",
    "import re\n",
    "import spacy\n",
    "\n",
    "# Download the natural language dataset for english, if this is the first run\n",
    "# !python -m spacy download en_core_web_sm\n",
    "\n",
    "# Load spacy\n",
    "nlp = spacy.load('en_core_web_sm')\n",
    "\n",
    "# Add in common words that occurr in all listings, that really don't mean anything useful here\n",
    "nlp.Defaults.stop_words |= {'many', 'great', 'nearby', 'short', 'major', 'north', 'south', 'east', 'west', 'easy', 'true', 'local', 'public', 'mi', 'several', 'such', 'main', 'other'}\n",
    "\n",
    "print('great' in nlp.Defaults.stop_words)\n",
    "\n",
    "# Creates a Counter of adjectives used in the \"neighborhood overview\" field of all listings\n",
    "# within the neighborhood name provided. \n",
    "def get_neighborhood_adjectives(name):\n",
    "  \n",
    "  # List of the \"neighborhood_overview\" field for all listings for this neighborhood\n",
    "  overviews = df_listings.loc[df_listings['neighbourhood_cleansed'] == name]['neighborhood_overview']\n",
    "  \n",
    "  list_overviews = '  '.join([overview for overview in overviews])\n",
    "    \n",
    "  # Combine all overviews into one, and load it into spacy\n",
    "  text = nlp(list_overviews)\n",
    "  \n",
    "  # Get the adjectives\n",
    "  adjectives = [token.lemma_ for token in text if token.pos_ == \"ADJ\" and not token.is_stop]\n",
    "  \n",
    "  # Count the adjectives\n",
    "  counter = Counter(adjectives)\n",
    "  \n",
    "  # Remove pronoun forms\n",
    "  counter.pop('-PRON-', None)\n",
    "  \n",
    "  return (len(overviews), counter)\n",
    "\n",
    "  \n",
    "# north_end = get_neighborhood_adjectives('North End')\n",
    "# print('Listings in north end:', north_end[0])\n",
    "# print('North end is:', north_end[1])"
   ]
  },
  {
   "cell_type": "code",
   "execution_count": 3,
   "metadata": {
    "colab": {},
    "colab_type": "code",
    "id": "X5pEcpPaSA73"
   },
   "outputs": [],
   "source": [
    "# for neighborhood in df_listings['neighbourhood_cleansed'].unique():\n",
    "#     ads = get_neighborhood_adjectives(neighborhood)\n",
    "#     print(neighborhood, ':', ads[0])\n",
    "#     print(neighborhood, 'is:', ads[1].most_common(5))"
   ]
  },
  {
   "cell_type": "markdown",
   "metadata": {
    "colab_type": "text",
    "id": "KPsaep7TZ6-J"
   },
   "source": [
    "# Reviews"
   ]
  },
  {
   "cell_type": "code",
   "execution_count": 4,
   "metadata": {
    "colab": {
     "base_uri": "https://localhost:8080/",
     "height": 34
    },
    "colab_type": "code",
    "id": "oYM0cRdEZ9kv",
    "outputId": "8df86a07-27e3-481c-b7c4-8d5249739483"
   },
   "outputs": [
    {
     "name": "stdout",
     "output_type": "stream",
     "text": [
      "Len total = 794377\n"
     ]
    }
   ],
   "source": [
    "import pandas as pd\n",
    "\n",
    "reviews_2020_03 = pd.read_csv('http://data.insideairbnb.com/united-states/ma/boston/2020-03-16/data/reviews.csv.gz', compression='gzip')\n",
    "reviews_2019_18 = pd.read_csv('http://data.insideairbnb.com/united-states/ma/boston/2019-10-18/data/reviews.csv.gz', compression='gzip')\n",
    "reviews_2018_10 = pd.read_csv('http://data.insideairbnb.com/united-states/ma/boston/2018-10-11/data/reviews.csv.gz', compression='gzip')\n",
    "reviews_2017_10 = pd.read_csv('http://data.insideairbnb.com/united-states/ma/boston/2017-10-06/data/reviews.csv.gz', compression='gzip')\n",
    "reviews_2016_09 = pd.read_csv('http://data.insideairbnb.com/united-states/ma/boston/2016-09-07/data/reviews.csv.gz', compression='gzip')\n",
    "reviews_2015_10 = pd.read_csv('http://data.insideairbnb.com/united-states/ma/boston/2015-10-03/data/reviews.csv.gz', compression='gzip')\n",
    "\n",
    "df_reviews = pd.concat([reviews_2020_03, reviews_2019_18, reviews_2018_10, reviews_2017_10, reviews_2016_09, reviews_2015_10])\n",
    "df_reviews['comments'] = df_reviews['comments'].astype(str)\n",
    "print('Len total =', len(df_reviews))"
   ]
  },
  {
   "cell_type": "markdown",
   "metadata": {
    "colab_type": "text",
    "id": "gvZp5O32cjrS"
   },
   "source": [
    "# Vibe Factor Calculations"
   ]
  },
  {
   "cell_type": "code",
   "execution_count": 5,
   "metadata": {},
   "outputs": [],
   "source": [
    "# Load spacy\n",
    "import spacy\n",
    "nlp = spacy.load('en_core_web_sm')\n",
    "\n",
    "# Calculates the neighborhood accuracy statistic for a listing\n",
    "# Neighborhood accuracy is the dot product between the neighborhood description\n",
    "# and the reviews left for the place. This metric is greatest when the experience\n",
    "# of the visitors most matched the vibe that was portrayed by the listing.\n",
    "\n",
    "# Neighborhood accuracy is calculated as the sum of the number of adjectives that appear \n",
    "# in both the neighborhood description and in the reviews for a listing,\n",
    "# weighted by the frequency by which those adjectives occur in all \n",
    "# neighborhood descriptions within that neighborhood.\n",
    "\n",
    "# calc_neighborhood_accuracy(comments_list) takes in a list of strings as the comments\n",
    "# for that listing. It returns a scalar neighborhood accuracy score.\n",
    "def calc_neighborhood_accuracy(neighborhood_adjectives, neighborhood_frequencies, comments_list):\n",
    "  neighborhood_accuracy = 0\n",
    "\n",
    "  # Comments, excluding punctuation and special characters\n",
    "  listing_comments = re.sub('[^\\w\\s]+', '', ' '.join(comments_list)).split()\n",
    "  \n",
    "  # Count up the frequencies of these words\n",
    "  comment_freq = Counter(listing_comments)\n",
    "  comment_words = list(comment_freq.keys())\n",
    "\n",
    "  # Dot product time doo doo doo doo doo\n",
    "  for i in range(len(neighborhood_adjectives)):\n",
    "    if (neighborhood_adjectives[i] in comment_words):\n",
    "      neighborhood_accuracy += neighborhood_frequencies[i] * comment_freq[neighborhood_adjectives[i]]\n",
    "\n",
    "  neighborhood_accuracy /= len(comments_list)\n",
    "\n",
    "  return neighborhood_accuracy\n",
    "\n",
    "# Calculates the mean sentiment of all reviews for a listing.\n",
    "# def calc_happiness(comments_list):\n",
    "  "
   ]
  },
  {
   "cell_type": "markdown",
   "metadata": {},
   "source": [
    "# Generate all data"
   ]
  },
  {
   "cell_type": "code",
   "execution_count": 39,
   "metadata": {
    "colab": {},
    "colab_type": "code",
    "id": "lgh4KTu3cmO2"
   },
   "outputs": [],
   "source": [
    "def gen_data():\n",
    "  vibedict = []\n",
    "  for neighborhood in df_listings['neighbourhood_cleansed'].unique():\n",
    "\n",
    "    # Primary adjectives and their frequencies, used by all listings within to describe this neighborhood\n",
    "    neighborhood_adjectives = get_neighborhood_adjectives(neighborhood)[1]\n",
    "    adjectives = list(neighborhood_adjectives)\n",
    "    frequencies = [neighborhood_adjectives[adjective] for adjective in adjectives]\n",
    "\n",
    "    # for each listing within this neighborhood\n",
    "    for listing_id in df_listings.loc[df_listings['neighbourhood_cleansed'] == neighborhood]['id']:\n",
    "      \n",
    "      # List of comments for that listing\n",
    "      comments_list = df_reviews.loc[df_reviews['listing_id'] == listing_id]['comments'].tolist()\n",
    "      if len(comments_list) == 0:\n",
    "        continue\n",
    "\n",
    "      # Neighborhood accuracy metric (\"Consistency\")\n",
    "      consistency = calc_neighborhood_accuracy(adjectives, frequencies, comments_list)\n",
    "\n",
    "      # Average rating (\"Enjoyability\")\n",
    "      enjoyability = df_listings.loc[df_listings['id'] == listing_id]['review_scores_rating'].values[0]\n",
    "      \n",
    "      # Number of ratings (\"Popularity\")\n",
    "      popularity = len(comments_list)\n",
    "      \n",
    "      # Add this listing and its metrics to the dictionary\n",
    "      vibedict.append({'listing_id': listing_id,\n",
    "                       'lat': df_listings.loc[df_listings['id'] == listing_id]['latitude'].values[0],\n",
    "                       'lon': df_listings.loc[df_listings['id'] == listing_id]['longitude'].values[0],\n",
    "                       'enjoyability': enjoyability,\n",
    "                       'consistency': consistency,\n",
    "                       'popularity': popularity})\n",
    "\n",
    "  vibetable = pd.DataFrame(columns=['listing_id', 'lat', 'lon', 'enjoyability',  'consistency', 'popularity'])\n",
    "  vibetable = vibetable.append(vibedict, ignore_index=True)\n",
    "  return vibetable"
   ]
  },
  {
   "cell_type": "code",
   "execution_count": 110,
   "metadata": {},
   "outputs": [],
   "source": [
    "vibetable = gen_data()"
   ]
  },
  {
   "cell_type": "code",
   "execution_count": 111,
   "metadata": {},
   "outputs": [],
   "source": [
    "import numpy as np\n",
    "\n",
    "scaled_table = vibetable.copy()\n",
    "\n",
    "scaled_table['consistency'] = (vibetable['consistency'] - np.quantile(vibetable['consistency'], 0.01)).clip(lower=0)\n",
    "scaled_table['consistency'] = (scaled_table['consistency'] / np.quantile(scaled_table['consistency'], 0.99)).clip(upper=1)\n",
    "\n",
    "scaled_table['popularity'] = (vibetable['popularity'] - np.quantile(vibetable['popularity'], 0.0000001)).clip(lower=0)\n",
    "scaled_table['popularity'] = (scaled_table['popularity'] / np.quantile(scaled_table['popularity'], 0.99)).clip(upper=1)\n",
    "\n",
    "scaled_table['enjoyability'] = (vibetable['enjoyability'] - np.quantile(vibetable['enjoyability'], 0.01)).clip(lower=0)\n",
    "scaled_table['enjoyability'] = scaled_table['enjoyability'] / np.amax(scaled_table['enjoyability'])\n",
    "\n"
   ]
  },
  {
   "cell_type": "code",
   "execution_count": 117,
   "metadata": {
    "colab": {
     "base_uri": "https://localhost:8080/",
     "height": 419
    },
    "colab_type": "code",
    "id": "wxbp2ItFQjkF",
    "outputId": "876463ff-21cc-4857-d677-82148648a8e6"
   },
   "outputs": [],
   "source": [
    "scaled_table.to_csv(\"dist/data/vibetable.csv\", index=False)\n",
    "scaled_table.to_json(\"dist/data/vibetable.json\", orient='index')"
   ]
  },
  {
   "cell_type": "code",
   "execution_count": 118,
   "metadata": {},
   "outputs": [
    {
     "data": {
      "text/plain": [
       "(array([1.000e+02, 1.000e+00, 2.000e+00, 0.000e+00, 0.000e+00, 2.000e+00,\n",
       "        0.000e+00, 1.200e+02, 0.000e+00, 2.000e+00, 3.000e+00, 8.000e+00,\n",
       "        8.000e+00, 5.000e+00, 0.000e+00, 1.400e+01, 7.000e+00, 3.000e+00,\n",
       "        5.000e+01, 6.000e+00, 1.200e+01, 5.200e+01, 1.200e+01, 3.100e+01,\n",
       "        3.000e+01, 2.800e+01, 3.500e+01, 1.800e+01, 4.520e+02, 3.500e+01,\n",
       "        5.600e+01, 1.090e+02, 0.000e+00, 1.210e+02, 1.410e+02, 1.140e+02,\n",
       "        2.690e+02, 2.550e+02, 2.520e+02, 5.650e+02, 3.180e+02, 3.890e+02,\n",
       "        6.100e+02, 4.220e+02, 5.610e+02, 6.740e+02, 6.450e+02, 6.870e+02,\n",
       "        3.860e+02, 2.074e+03]),\n",
       " array([0.  , 0.02, 0.04, 0.06, 0.08, 0.1 , 0.12, 0.14, 0.16, 0.18, 0.2 ,\n",
       "        0.22, 0.24, 0.26, 0.28, 0.3 , 0.32, 0.34, 0.36, 0.38, 0.4 , 0.42,\n",
       "        0.44, 0.46, 0.48, 0.5 , 0.52, 0.54, 0.56, 0.58, 0.6 , 0.62, 0.64,\n",
       "        0.66, 0.68, 0.7 , 0.72, 0.74, 0.76, 0.78, 0.8 , 0.82, 0.84, 0.86,\n",
       "        0.88, 0.9 , 0.92, 0.94, 0.96, 0.98, 1.  ]),\n",
       " <a list of 50 Patch objects>)"
      ]
     },
     "execution_count": 118,
     "metadata": {},
     "output_type": "execute_result"
    },
    {
     "data": {
      "image/png": "[encoded data removed]",
      "text/plain": [
       "<Figure size 432x288 with 1 Axes>"
      ]
     },
     "metadata": {
      "needs_background": "light"
     },
     "output_type": "display_data"
    }
   ],
   "source": [
    "import matplotlib.pyplot as plt\n",
    "# plt.hist(scaled_table['enjoyability'], bins=50)\n",
    "# plt.show()\n",
    "plt.hist(scaled_table['enjoyability'], bins=50)"
   ]
  },
  {
   "cell_type": "code",
   "execution_count": null,
   "metadata": {},
   "outputs": [],
   "source": []
  }
 ],
 "metadata": {
  "celltoolbar": "Raw Cell Format",
  "colab": {
   "collapsed_sections": [],
   "name": "Airbnb Adjectives.ipynb",
   "provenance": [],
   "toc_visible": true
  },
  "kernelspec": {
   "display_name": "Python [conda env:vibe-of-boston] *",
   "language": "python",
   "name": "conda-env-vibe-of-boston-py"
  },
  "language_info": {
   "codemirror_mode": {
    "name": "ipython",
    "version": 3
   },
   "file_extension": ".py",
   "mimetype": "text/x-python",
   "name": "python",
   "nbconvert_exporter": "python",
   "pygments_lexer": "ipython3",
   "version": "3.7.7"
  }
 },
 "nbformat": 4,
 "nbformat_minor": 1
}
