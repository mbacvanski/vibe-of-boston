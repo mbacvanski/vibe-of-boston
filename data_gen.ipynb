{
 "cells": [
  {
   "cell_type": "markdown",
   "metadata": {
    "colab_type": "text",
    "id": "21RGJj1IZ-4g"
   },
   "source": [
    "# Listings"
   ]
  },
  {
   "cell_type": "code",
   "execution_count": 1,
   "metadata": {
    "colab": {
     "base_uri": "https://localhost:8080/",
     "height": 190
    },
    "colab_type": "code",
    "id": "h6kf1rCRR2xK",
    "outputId": "9e55e8d0-603c-469d-d251-68224db07ec1"
   },
   "outputs": [
    {
     "name": "stdout",
     "output_type": "stream",
     "text": [
      "Len total = 12480\n"
     ]
    }
   ],
   "source": [
    "import pandas as pd\n",
    "\n",
    "df_2020_03 = pd.read_csv('http://data.insideairbnb.com/united-states/ma/boston/2020-03-16/data/listings.csv.gz', compression='gzip')\n",
    "df_2019_18 = pd.read_csv('http://data.insideairbnb.com/united-states/ma/boston/2019-10-18/data/listings.csv.gz', compression='gzip')\n",
    "df_2018_10 = pd.read_csv('http://data.insideairbnb.com/united-states/ma/boston/2018-10-11/data/listings.csv.gz', compression='gzip')\n",
    "df_2017_10 = pd.read_csv('http://data.insideairbnb.com/united-states/ma/boston/2017-10-06/data/listings.csv.gz', compression='gzip')\n",
    "df_2016_09 = pd.read_csv('http://data.insideairbnb.com/united-states/ma/boston/2016-09-07/data/listings.csv.gz', compression='gzip')\n",
    "df_2015_10 = pd.read_csv('http://data.insideairbnb.com/united-states/ma/boston/2015-10-03/data/listings.csv.gz', compression='gzip')\n",
    "\n",
    "df_original_listings = pd.concat([df_2020_03, df_2019_18, df_2018_10, df_2017_10, df_2016_09, df_2015_10]).drop_duplicates('id')\n",
    "print('Len total =', len(df_original_listings))"
   ]
  },
  {
   "cell_type": "code",
   "execution_count": 2,
   "metadata": {
    "colab": {},
    "colab_type": "code",
    "id": "B7MOCzKuR5fj"
   },
   "outputs": [],
   "source": [
    "df_listings = df_original_listings\n",
    "df_listings = df_listings.replace('nan', '', regex=True)\n",
    "df_listings['summary'] = df_listings['summary'].astype(str)\n",
    "df_listings['space'] = df_listings['space'].astype(str)\n",
    "df_listings['description'] = df_listings['description'].astype(str)\n",
    "df_listings['neighborhood_overview'] = df_listings['neighborhood_overview'].astype(str)\n",
    "df_listings['host_neighbourhood'] = df_listings['host_neighbourhood'].astype(str)\n",
    "df_listings['neighbourhood_cleansed'] = df_listings['neighbourhood_cleansed'].astype(str)\n",
    "df_listings['notes'] = df_listings['notes'].astype(str)"
   ]
  },
  {
   "cell_type": "code",
   "execution_count": 3,
   "metadata": {
    "colab": {
     "base_uri": "https://localhost:8080/",
     "height": 119
    },
    "colab_type": "code",
    "id": "H5ZijdxcR_fL",
    "outputId": "0f520d45-efa7-40b8-df7b-bee64d1776cf"
   },
   "outputs": [
    {
     "name": "stderr",
     "output_type": "stream",
     "text": [
      "[nltk_data] Downloading package stopwords to /Users/marc/nltk_data...\n",
      "[nltk_data]   Package stopwords is already up-to-date!\n",
      "[nltk_data] Downloading package averaged_perceptron_tagger to\n",
      "[nltk_data]     /Users/marc/nltk_data...\n",
      "[nltk_data]   Package averaged_perceptron_tagger is already up-to-\n",
      "[nltk_data]       date!\n"
     ]
    }
   ],
   "source": [
    "from collections import Counter\n",
    "from itertools import chain\n",
    "import itertools\n",
    "import string\n",
    "import re\n",
    "\n",
    "from nltk.corpus import stopwords\n",
    "import nltk\n",
    "nltk.download('stopwords')\n",
    "nltk.download('averaged_perceptron_tagger')\n",
    "\n",
    "stop_words = set(stopwords.words('english'))\n",
    "\n",
    "def get_neighborhood_adjectives(name):\n",
    "  neigh = df_listings.loc[df_listings['neighbourhood_cleansed'] == name]\n",
    "\n",
    "  overviews = [n.split() for n in neigh['neighborhood_overview']]\n",
    "  adjectives = []\n",
    "  for overview in overviews:\n",
    "    useless_words = ['many', 'great', 'nearby', 'short', 'major', 'north', 'south', 'east', 'west', 'easy', 'true', 'local', 'public', 'mi', 'several', 'such', 'main', 'other']\n",
    "    text = [word for word in overview if word.lower() not in useless_words]\n",
    "    text = re.sub('[^\\w\\s]+', '', ' '.join(text))\n",
    "    tagged = nltk.FreqDist(nltk.pos_tag(text.split()))\n",
    "    jj = [wt[0] for (wt, _) in tagged.most_common() if wt[1] == 'JJ']\n",
    "    adjectives.append(jj)\n",
    "\n",
    "  flatAdjectives = list(itertools.chain.from_iterable(adjectives))\n",
    "\n",
    "  counter = Counter(flatAdjectives)\n",
    "  return (len(neigh), counter)\n",
    "\n",
    "# north_end = get_neighborhood_adjectives('North End')\n",
    "# print('In north end:', north_end[0])\n",
    "# print('North end is:', north_end[1])"
   ]
  },
  {
   "cell_type": "code",
   "execution_count": 4,
   "metadata": {
    "colab": {},
    "colab_type": "code",
    "id": "X5pEcpPaSA73"
   },
   "outputs": [],
   "source": [
    "# for neighborhood in df_listings['neighbourhood_cleansed'].unique():\n",
    "#     ads = get_neighborhood_adjectives(neighborhood)\n",
    "#     print(neighborhood, ':', ads[0])\n",
    "#     print(neighborhood, 'is:', ads[1].most_common(5))"
   ]
  },
  {
   "cell_type": "markdown",
   "metadata": {
    "colab_type": "text",
    "id": "KPsaep7TZ6-J"
   },
   "source": [
    "# Reviews"
   ]
  },
  {
   "cell_type": "code",
   "execution_count": 5,
   "metadata": {
    "colab": {
     "base_uri": "https://localhost:8080/",
     "height": 34
    },
    "colab_type": "code",
    "id": "oYM0cRdEZ9kv",
    "outputId": "8df86a07-27e3-481c-b7c4-8d5249739483"
   },
   "outputs": [
    {
     "name": "stdout",
     "output_type": "stream",
     "text": [
      "Len total = 794377\n"
     ]
    }
   ],
   "source": [
    "import pandas as pd\n",
    "\n",
    "reviews_2020_03 = pd.read_csv('http://data.insideairbnb.com/united-states/ma/boston/2020-03-16/data/reviews.csv.gz', compression='gzip')\n",
    "reviews_2019_18 = pd.read_csv('http://data.insideairbnb.com/united-states/ma/boston/2019-10-18/data/reviews.csv.gz', compression='gzip')\n",
    "reviews_2018_10 = pd.read_csv('http://data.insideairbnb.com/united-states/ma/boston/2018-10-11/data/reviews.csv.gz', compression='gzip')\n",
    "reviews_2017_10 = pd.read_csv('http://data.insideairbnb.com/united-states/ma/boston/2017-10-06/data/reviews.csv.gz', compression='gzip')\n",
    "reviews_2016_09 = pd.read_csv('http://data.insideairbnb.com/united-states/ma/boston/2016-09-07/data/reviews.csv.gz', compression='gzip')\n",
    "reviews_2015_10 = pd.read_csv('http://data.insideairbnb.com/united-states/ma/boston/2015-10-03/data/reviews.csv.gz', compression='gzip')\n",
    "\n",
    "df_reviews = pd.concat([reviews_2020_03, reviews_2019_18, reviews_2018_10, reviews_2017_10, reviews_2016_09, reviews_2015_10])\n",
    "df_reviews['comments'] = df_reviews['comments'].astype(str)\n",
    "print('Len total =', len(df_reviews))"
   ]
  },
  {
   "cell_type": "code",
   "execution_count": 6,
   "metadata": {
    "colab": {
     "base_uri": "https://localhost:8080/",
     "height": 419
    },
    "colab_type": "code",
    "id": "-A0FoZNRa1eX",
    "outputId": "b65c1588-5071-427a-fe8b-59fb2fb7f6f3"
   },
   "outputs": [
    {
     "data": {
      "text/html": [
       "<div>\n",
       "<style scoped>\n",
       "    .dataframe tbody tr th:only-of-type {\n",
       "        vertical-align: middle;\n",
       "    }\n",
       "\n",
       "    .dataframe tbody tr th {\n",
       "        vertical-align: top;\n",
       "    }\n",
       "\n",
       "    .dataframe thead th {\n",
       "        text-align: right;\n",
       "    }\n",
       "</style>\n",
       "<table border=\"1\" class=\"dataframe\">\n",
       "  <thead>\n",
       "    <tr style=\"text-align: right;\">\n",
       "      <th></th>\n",
       "      <th>listing_id</th>\n",
       "      <th>id</th>\n",
       "      <th>date</th>\n",
       "      <th>reviewer_id</th>\n",
       "      <th>reviewer_name</th>\n",
       "      <th>comments</th>\n",
       "    </tr>\n",
       "  </thead>\n",
       "  <tbody>\n",
       "    <tr>\n",
       "      <th>0</th>\n",
       "      <td>3781</td>\n",
       "      <td>37776825</td>\n",
       "      <td>2015-07-10</td>\n",
       "      <td>36059247</td>\n",
       "      <td>Greg</td>\n",
       "      <td>The apartment was as advertised and Frank was ...</td>\n",
       "    </tr>\n",
       "    <tr>\n",
       "      <th>1</th>\n",
       "      <td>3781</td>\n",
       "      <td>41842494</td>\n",
       "      <td>2015-08-09</td>\n",
       "      <td>10459388</td>\n",
       "      <td>Tai</td>\n",
       "      <td>It was a pleasure to stay at Frank's place. Th...</td>\n",
       "    </tr>\n",
       "    <tr>\n",
       "      <th>2</th>\n",
       "      <td>3781</td>\n",
       "      <td>45282151</td>\n",
       "      <td>2015-09-01</td>\n",
       "      <td>12264652</td>\n",
       "      <td>Damien</td>\n",
       "      <td>The apartment description is entirely faithful...</td>\n",
       "    </tr>\n",
       "    <tr>\n",
       "      <th>3</th>\n",
       "      <td>3781</td>\n",
       "      <td>49022647</td>\n",
       "      <td>2015-09-30</td>\n",
       "      <td>41426327</td>\n",
       "      <td>Mike</td>\n",
       "      <td>Thoroughly enjoyed my time at Frank's home. Ha...</td>\n",
       "    </tr>\n",
       "    <tr>\n",
       "      <th>4</th>\n",
       "      <td>3781</td>\n",
       "      <td>52503327</td>\n",
       "      <td>2015-10-30</td>\n",
       "      <td>15151513</td>\n",
       "      <td>Ivan</td>\n",
       "      <td>Great value for the money! This location has e...</td>\n",
       "    </tr>\n",
       "    <tr>\n",
       "      <th>...</th>\n",
       "      <td>...</td>\n",
       "      <td>...</td>\n",
       "      <td>...</td>\n",
       "      <td>...</td>\n",
       "      <td>...</td>\n",
       "      <td>...</td>\n",
       "    </tr>\n",
       "    <tr>\n",
       "      <th>43118</th>\n",
       "      <td>6350149</td>\n",
       "      <td>43556545</td>\n",
       "      <td>2015-08-20</td>\n",
       "      <td>8581396</td>\n",
       "      <td>Atanas</td>\n",
       "      <td>Bernie was a great host, everything went very ...</td>\n",
       "    </tr>\n",
       "    <tr>\n",
       "      <th>43119</th>\n",
       "      <td>6350149</td>\n",
       "      <td>43731210</td>\n",
       "      <td>2015-08-21</td>\n",
       "      <td>41736991</td>\n",
       "      <td>Edd</td>\n",
       "      <td>First time using AirBNB. Needed a last minute ...</td>\n",
       "    </tr>\n",
       "    <tr>\n",
       "      <th>43120</th>\n",
       "      <td>6350149</td>\n",
       "      <td>44353669</td>\n",
       "      <td>2015-08-25</td>\n",
       "      <td>40994591</td>\n",
       "      <td>Michael</td>\n",
       "      <td>Overall: Disappointed with expectation from ph...</td>\n",
       "    </tr>\n",
       "    <tr>\n",
       "      <th>43121</th>\n",
       "      <td>6350149</td>\n",
       "      <td>44708580</td>\n",
       "      <td>2015-08-28</td>\n",
       "      <td>41152147</td>\n",
       "      <td>François</td>\n",
       "      <td>We did not see Bernie. One of his room mate we...</td>\n",
       "    </tr>\n",
       "    <tr>\n",
       "      <th>43122</th>\n",
       "      <td>6350149</td>\n",
       "      <td>45420163</td>\n",
       "      <td>2015-09-02</td>\n",
       "      <td>41808907</td>\n",
       "      <td>Paulina</td>\n",
       "      <td>My friend Courtney &amp; I came to visit Boston fo...</td>\n",
       "    </tr>\n",
       "  </tbody>\n",
       "</table>\n",
       "<p>794377 rows × 6 columns</p>\n",
       "</div>"
      ],
      "text/plain": [
       "       listing_id        id        date  reviewer_id reviewer_name  \\\n",
       "0            3781  37776825  2015-07-10     36059247          Greg   \n",
       "1            3781  41842494  2015-08-09     10459388           Tai   \n",
       "2            3781  45282151  2015-09-01     12264652        Damien   \n",
       "3            3781  49022647  2015-09-30     41426327          Mike   \n",
       "4            3781  52503327  2015-10-30     15151513          Ivan   \n",
       "...           ...       ...         ...          ...           ...   \n",
       "43118     6350149  43556545  2015-08-20      8581396        Atanas   \n",
       "43119     6350149  43731210  2015-08-21     41736991           Edd   \n",
       "43120     6350149  44353669  2015-08-25     40994591       Michael   \n",
       "43121     6350149  44708580  2015-08-28     41152147      François   \n",
       "43122     6350149  45420163  2015-09-02     41808907       Paulina   \n",
       "\n",
       "                                                comments  \n",
       "0      The apartment was as advertised and Frank was ...  \n",
       "1      It was a pleasure to stay at Frank's place. Th...  \n",
       "2      The apartment description is entirely faithful...  \n",
       "3      Thoroughly enjoyed my time at Frank's home. Ha...  \n",
       "4      Great value for the money! This location has e...  \n",
       "...                                                  ...  \n",
       "43118  Bernie was a great host, everything went very ...  \n",
       "43119  First time using AirBNB. Needed a last minute ...  \n",
       "43120  Overall: Disappointed with expectation from ph...  \n",
       "43121  We did not see Bernie. One of his room mate we...  \n",
       "43122  My friend Courtney & I came to visit Boston fo...  \n",
       "\n",
       "[794377 rows x 6 columns]"
      ]
     },
     "execution_count": 6,
     "metadata": {},
     "output_type": "execute_result"
    }
   ],
   "source": [
    "df_reviews"
   ]
  },
  {
   "cell_type": "markdown",
   "metadata": {
    "colab_type": "text",
    "id": "gvZp5O32cjrS"
   },
   "source": [
    "# Vibe Vectors"
   ]
  },
  {
   "cell_type": "code",
   "execution_count": null,
   "metadata": {
    "colab": {},
    "colab_type": "code",
    "id": "lgh4KTu3cmO2"
   },
   "outputs": [],
   "source": [
    "vibedict = []\n",
    "\n",
    "for neighborhood in df_listings['neighbourhood_cleansed'].unique():\n",
    "  neighborhood_adjectives = get_neighborhood_adjectives(neighborhood)[1]\n",
    "  adjectives = list(neighborhood_adjectives)\n",
    "  frequencies = [neighborhood_adjectives[adjective] for adjective in adjectives]\n",
    "\n",
    "  # for each listing within this neighborhood\n",
    "  for listing_id in df_listings.loc[df_listings['neighbourhood_cleansed'] == neighborhood]['id']:\n",
    "    comments_list = df_reviews.loc[df_reviews['listing_id'] == listing_id]['comments'].tolist()\n",
    "    if len(comments_list) == 0:\n",
    "      continue\n",
    "\n",
    "    # Neighborhood accuracy is essentially the dot product between the neighborhood description\n",
    "    # and the reviews left for the place. This indicates the accuracy of the neighborhood\n",
    "    # description and the vibe that people who stayed felt.\n",
    "\n",
    "    # Neighborhood accuracy is the sum of the number of adjectives that appear \n",
    "    # in both the neighborhood description and in the reviews for a listing,\n",
    "    # weighted by the frequency by which those adjectives occur in all \n",
    "    # neighborhood descriptions within that neighborhood. \n",
    "    neighborhood_accuracy = 0\n",
    "\n",
    "    listing_comments = re.sub('[^\\w\\s]+', '', ' '.join(comments_list)).split()\n",
    "    comment_freq = Counter(listing_comments)\n",
    "    comment_words = list(comment_freq.keys())\n",
    "\n",
    "    for i in range(len(adjectives)):\n",
    "      if (adjectives[i] in comment_words):\n",
    "        neighborhood_accuracy += frequencies[i] * comment_freq[adjectives[i]]\n",
    "        # neighborhood_accuracy += 1\n",
    "\n",
    "    neighborhood_accuracy /= len(comments_list)\n",
    "    vibedict.append({'lat': df_listings.loc[df_listings['id'] == listing_id]['latitude'].values[0],\n",
    "                     'lon': df_listings.loc[df_listings['id'] == listing_id]['longitude'].values[0],\n",
    "                     'listing_id': listing_id, \n",
    "                     'neighborhood_accuracy': neighborhood_accuracy, \n",
    "                     'num_reviews': len(comments_list)})\n",
    "\n",
    "vibetable = pd.DataFrame(columns=['listing_id', 'neighborhood_accuracy', 'num_reviews'])\n",
    "vibetable = vibetable.append(vibedict, ignore_index=True)"
   ]
  },
  {
   "cell_type": "code",
   "execution_count": null,
   "metadata": {
    "colab": {
     "base_uri": "https://localhost:8080/",
     "height": 419
    },
    "colab_type": "code",
    "id": "wxbp2ItFQjkF",
    "outputId": "876463ff-21cc-4857-d677-82148648a8e6"
   },
   "outputs": [],
   "source": [
    "vibetable.to_csv(\"dist/data/vibetable.csv\", index=False)\n",
    "vibetable.to_json(\"dist/data/vibetable.json\", orient='index')"
   ]
  },
  {
   "cell_type": "code",
   "execution_count": null,
   "metadata": {},
   "outputs": [],
   "source": []
  }
 ],
 "metadata": {
  "celltoolbar": "Raw Cell Format",
  "colab": {
   "collapsed_sections": [],
   "name": "Airbnb Adjectives.ipynb",
   "provenance": [],
   "toc_visible": true
  },
  "kernelspec": {
   "display_name": "Python 3",
   "language": "python",
   "name": "python3"
  },
  "language_info": {
   "codemirror_mode": {
    "name": "ipython",
    "version": 3
   },
   "file_extension": ".py",
   "mimetype": "text/x-python",
   "name": "python",
   "nbconvert_exporter": "python",
   "pygments_lexer": "ipython3",
   "version": "3.7.6"
  }
 },
 "nbformat": 4,
 "nbformat_minor": 1
}
