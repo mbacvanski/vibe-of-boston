{
 "cells": [
  {
   "cell_type": "markdown",
   "metadata": {
    "colab_type": "text",
    "id": "21RGJj1IZ-4g"
   },
   "source": [
    "# Listings"
   ]
  },
  {
   "cell_type": "code",
   "execution_count": 1,
   "metadata": {
    "colab": {
     "base_uri": "https://localhost:8080/",
     "height": 190
    },
    "colab_type": "code",
    "id": "h6kf1rCRR2xK",
    "outputId": "9e55e8d0-603c-469d-d251-68224db07ec1"
   },
   "outputs": [
    {
     "name": "stdout",
     "output_type": "stream",
     "text": [
      "Len total = 12480\n"
     ]
    }
   ],
   "source": [
    "import pandas as pd\n",
    "\n",
    "df_2020_03 = pd.read_csv('http://data.insideairbnb.com/united-states/ma/boston/2020-03-16/data/listings.csv.gz', compression='gzip')\n",
    "df_2019_18 = pd.read_csv('http://data.insideairbnb.com/united-states/ma/boston/2019-10-18/data/listings.csv.gz', compression='gzip')\n",
    "df_2018_10 = pd.read_csv('http://data.insideairbnb.com/united-states/ma/boston/2018-10-11/data/listings.csv.gz', compression='gzip')\n",
    "df_2017_10 = pd.read_csv('http://data.insideairbnb.com/united-states/ma/boston/2017-10-06/data/listings.csv.gz', compression='gzip')\n",
    "df_2016_09 = pd.read_csv('http://data.insideairbnb.com/united-states/ma/boston/2016-09-07/data/listings.csv.gz', compression='gzip')\n",
    "df_2015_10 = pd.read_csv('http://data.insideairbnb.com/united-states/ma/boston/2015-10-03/data/listings.csv.gz', compression='gzip')\n",
    "\n",
    "df_original_listings = pd.concat([df_2020_03, df_2019_18, df_2018_10, df_2017_10, df_2016_09, df_2015_10]).drop_duplicates('id')\n",
    "print('Len total =', len(df_original_listings))"
   ]
  },
  {
   "cell_type": "code",
   "execution_count": 2,
   "metadata": {
    "colab": {},
    "colab_type": "code",
    "id": "B7MOCzKuR5fj"
   },
   "outputs": [
    {
     "name": "stdout",
     "output_type": "stream",
     "text": [
      "9684\n"
     ]
    },
    {
     "data": {
      "text/plain": [
       "0        99.0\n",
       "1        95.0\n",
       "2        96.0\n",
       "3        93.0\n",
       "4        95.0\n",
       "        ...  \n",
       "2552     96.0\n",
       "2554     99.0\n",
       "2555     99.0\n",
       "2556    100.0\n",
       "2557     87.0\n",
       "Name: review_scores_rating, Length: 9684, dtype: float64"
      ]
     },
     "execution_count": 2,
     "metadata": {},
     "output_type": "execute_result"
    }
   ],
   "source": [
    "df_listings = df_original_listings\n",
    "df_listings = df_listings.replace('nan', '', regex=True)\n",
    "df_listings['summary'] = df_listings['summary'].astype(str)\n",
    "df_listings['space'] = df_listings['space'].astype(str)\n",
    "df_listings['description'] = df_listings['description'].astype(str)\n",
    "df_listings['neighborhood_overview'] = df_listings['neighborhood_overview'].astype(str)\n",
    "df_listings['host_neighbourhood'] = df_listings['host_neighbourhood'].astype(str)\n",
    "df_listings['neighbourhood_cleansed'] = df_listings['neighbourhood_cleansed'].astype(str)\n",
    "df_listings['notes'] = df_listings['notes'].astype(str)\n",
    "df_listings['review_scores_rating'] = df_listings['review_scores_rating'].astype(float)\n",
    "df_listings = df_listings[df_listings['review_scores_rating'].notna()]\n",
    "print(len(df_listings))\n",
    "df_listings['review_scores_rating']"
   ]
  },
  {
   "cell_type": "code",
   "execution_count": 3,
   "metadata": {
    "colab": {
     "base_uri": "https://localhost:8080/",
     "height": 119
    },
    "colab_type": "code",
    "id": "H5ZijdxcR_fL",
    "outputId": "0f520d45-efa7-40b8-df7b-bee64d1776cf"
   },
   "outputs": [
    {
     "name": "stderr",
     "output_type": "stream",
     "text": [
      "[nltk_data] Downloading package stopwords to /Users/marc/nltk_data...\n",
      "[nltk_data]   Package stopwords is already up-to-date!\n",
      "[nltk_data] Downloading package averaged_perceptron_tagger to\n",
      "[nltk_data]     /Users/marc/nltk_data...\n",
      "[nltk_data]   Package averaged_perceptron_tagger is already up-to-\n",
      "[nltk_data]       date!\n"
     ]
    }
   ],
   "source": [
    "from collections import Counter\n",
    "from itertools import chain\n",
    "import itertools\n",
    "import string\n",
    "import re\n",
    "\n",
    "from nltk.corpus import stopwords\n",
    "import nltk\n",
    "nltk.download('stopwords')\n",
    "nltk.download('averaged_perceptron_tagger')\n",
    "\n",
    "stop_words = set(stopwords.words('english'))\n",
    "\n",
    "def get_neighborhood_adjectives(name):\n",
    "  neigh = df_listings.loc[df_listings['neighbourhood_cleansed'] == name]\n",
    "\n",
    "  overviews = [n.split() for n in neigh['neighborhood_overview']]\n",
    "  adjectives = []\n",
    "  for overview in overviews:\n",
    "    useless_words = ['many', 'great', 'nearby', 'short', 'major', 'north', 'south', 'east', 'west', 'easy', 'true', 'local', 'public', 'mi', 'several', 'such', 'main', 'other']\n",
    "    text = [word for word in overview if word.lower() not in useless_words]\n",
    "    text = re.sub('[^\\w\\s]+', '', ' '.join(text))\n",
    "    tagged = nltk.FreqDist(nltk.pos_tag(text.split()))\n",
    "    jj = [wt[0] for (wt, _) in tagged.most_common() if wt[1] == 'JJ']\n",
    "    adjectives.append(jj)\n",
    "\n",
    "  flatAdjectives = list(itertools.chain.from_iterable(adjectives))\n",
    "\n",
    "  counter = Counter(flatAdjectives)\n",
    "  return (len(neigh), counter)\n",
    "\n",
    "# north_end = get_neighborhood_adjectives('North End')\n",
    "# print('In north end:', north_end[0])\n",
    "# print('North end is:', north_end[1])"
   ]
  },
  {
   "cell_type": "code",
   "execution_count": null,
   "metadata": {
    "colab": {},
    "colab_type": "code",
    "id": "X5pEcpPaSA73"
   },
   "outputs": [],
   "source": [
    "# for neighborhood in df_listings['neighbourhood_cleansed'].unique():\n",
    "#     ads = get_neighborhood_adjectives(neighborhood)\n",
    "#     print(neighborhood, ':', ads[0])\n",
    "#     print(neighborhood, 'is:', ads[1].most_common(5))"
   ]
  },
  {
   "cell_type": "markdown",
   "metadata": {
    "colab_type": "text",
    "id": "KPsaep7TZ6-J"
   },
   "source": [
    "# Reviews"
   ]
  },
  {
   "cell_type": "code",
   "execution_count": 4,
   "metadata": {
    "colab": {
     "base_uri": "https://localhost:8080/",
     "height": 34
    },
    "colab_type": "code",
    "id": "oYM0cRdEZ9kv",
    "outputId": "8df86a07-27e3-481c-b7c4-8d5249739483"
   },
   "outputs": [
    {
     "name": "stdout",
     "output_type": "stream",
     "text": [
      "Len total = 794377\n"
     ]
    }
   ],
   "source": [
    "import pandas as pd\n",
    "\n",
    "reviews_2020_03 = pd.read_csv('http://data.insideairbnb.com/united-states/ma/boston/2020-03-16/data/reviews.csv.gz', compression='gzip')\n",
    "reviews_2019_18 = pd.read_csv('http://data.insideairbnb.com/united-states/ma/boston/2019-10-18/data/reviews.csv.gz', compression='gzip')\n",
    "reviews_2018_10 = pd.read_csv('http://data.insideairbnb.com/united-states/ma/boston/2018-10-11/data/reviews.csv.gz', compression='gzip')\n",
    "reviews_2017_10 = pd.read_csv('http://data.insideairbnb.com/united-states/ma/boston/2017-10-06/data/reviews.csv.gz', compression='gzip')\n",
    "reviews_2016_09 = pd.read_csv('http://data.insideairbnb.com/united-states/ma/boston/2016-09-07/data/reviews.csv.gz', compression='gzip')\n",
    "reviews_2015_10 = pd.read_csv('http://data.insideairbnb.com/united-states/ma/boston/2015-10-03/data/reviews.csv.gz', compression='gzip')\n",
    "\n",
    "df_reviews = pd.concat([reviews_2020_03, reviews_2019_18, reviews_2018_10, reviews_2017_10, reviews_2016_09, reviews_2015_10])\n",
    "df_reviews['comments'] = df_reviews['comments'].astype(str)\n",
    "print('Len total =', len(df_reviews))"
   ]
  },
  {
   "cell_type": "markdown",
   "metadata": {
    "colab_type": "text",
    "id": "gvZp5O32cjrS"
   },
   "source": [
    "# Vibe Factor Calculations"
   ]
  },
  {
   "cell_type": "code",
   "execution_count": 7,
   "metadata": {},
   "outputs": [],
   "source": [
    "# Calculates the neighborhood accuracy statistic for a listing\n",
    "# Neighborhood accuracy is the dot product between the neighborhood description\n",
    "# and the reviews left for the place. This metric is greatest when the experience\n",
    "# of the visitors most matched the vibe that was portrayed by the listing.\n",
    "\n",
    "# Neighborhood accuracy is calculated as the sum of the number of adjectives that appear \n",
    "# in both the neighborhood description and in the reviews for a listing,\n",
    "# weighted by the frequency by which those adjectives occur in all \n",
    "# neighborhood descriptions within that neighborhood.\n",
    "\n",
    "# calc_neighborhood_accuracy(comments_list) takes in a list of strings as the comments\n",
    "# for that listing. It returns a scalar neighborhood accuracy score.\n",
    "def calc_neighborhood_accuracy(comments_list):\n",
    "  neighborhood_accuracy = 0\n",
    "\n",
    "  listing_comments = re.sub('[^\\w\\s]+', '', ' '.join(comments_list)).split()\n",
    "  comment_freq = Counter(listing_comments)\n",
    "  comment_words = list(comment_freq.keys())\n",
    "\n",
    "  for i in range(len(adjectives)):\n",
    "    if (adjectives[i] in comment_words):\n",
    "      neighborhood_accuracy += frequencies[i] * comment_freq[adjectives[i]]\n",
    "\n",
    "  rating = df_listings.loc[df_listings['id'] == listing_id]['review_scores_rating']    \n",
    "  if len(rating) == 0:\n",
    "    print('listing id:', listing_id, 'rating:', rating)    \n",
    "  neighborhood_accuracy /= len(comments_list)\n",
    "\n",
    "  return neighborhood_accuracy\n",
    "\n",
    "# Calculates the mean sentiment of all reviews for a listing.\n",
    "def calc_happiness(comments_list):\n",
    "  "
   ]
  },
  {
   "cell_type": "markdown",
   "metadata": {},
   "source": [
    "# Generate all data"
   ]
  },
  {
   "cell_type": "code",
   "execution_count": 19,
   "metadata": {
    "colab": {},
    "colab_type": "code",
    "id": "lgh4KTu3cmO2"
   },
   "outputs": [],
   "source": [
    "def gen_data():\n",
    "  vibedict = []\n",
    "  for neighborhood in df_listings['neighbourhood_cleansed'].unique():\n",
    "\n",
    "    # Primary adjectives and their frequencies, used by all listings within to describe this neighborhood\n",
    "    neighborhood_adjectives = get_neighborhood_adjectives(neighborhood)[1]\n",
    "    adjectives = list(neighborhood_adjectives)\n",
    "    frequencies = [neighborhood_adjectives[adjective] for adjective in adjectives]\n",
    "\n",
    "    # for each listing within this neighborhood\n",
    "    for listing_id in df_listings.loc[df_listings['neighbourhood_cleansed'] == neighborhood]['id']:\n",
    "      \n",
    "      # List of comments for that listing\n",
    "      comments_list = df_reviews.loc[df_reviews['listing_id'] == listing_id]['comments'].tolist()\n",
    "      if len(comments_list) == 0:\n",
    "        continue\n",
    "\n",
    "      # Neighborhood accuracy metric (\"Consistency\")\n",
    "      consistency = calc_neighborhood_accuracy(comments_list)\n",
    "\n",
    "      # Average rating (\"Enjoyability\")\n",
    "      enjoyability = df_listings.loc[df_listings['id'] == listing_id]['review_scores_rating'].values[0]\n",
    "      \n",
    "      # Number of ratings (\"Popularity\")\n",
    "      popularity = len(comments_list)\n",
    "      \n",
    "      # Add this listing and its metrics to the dictionary\n",
    "      vibedict.append({'listing_id': listing_id,\n",
    "                       'lat': df_listings.loc[df_listings['id'] == listing_id]['latitude'].values[0],\n",
    "                       'lon': df_listings.loc[df_listings['id'] == listing_id]['longitude'].values[0],\n",
    "                       'enjoyability': enjoyability,\n",
    "                       'consistency': consistency,\n",
    "                       'popularity': popularity})\n",
    "\n",
    "  vibetable = pd.DataFrame(columns=['listing_id', 'lat', 'lon', 'enjoyability',  'consistency', 'popularity'])\n",
    "  vibetable = vibetable.append(vibedict, ignore_index=True)\n",
    "  return vibetable"
   ]
  },
  {
   "cell_type": "code",
   "execution_count": 20,
   "metadata": {},
   "outputs": [],
   "source": [
    "vibetable = gen_data()"
   ]
  },
  {
   "cell_type": "code",
   "execution_count": 21,
   "metadata": {},
   "outputs": [],
   "source": [
    "import numpy as np\n",
    "\n",
    "scaled_table = vibetable\n",
    "\n",
    "perception_accuracy = vibetable['consistency']\n",
    "perception_90 = np.quantile(perception_accuracy, .90)\n",
    "scaled_table['consistency'] = vibetable['consistency'].div(perception_90).clip(upper=1)\n",
    "\n",
    "num_reviews = vibetable['popularity']\n",
    "reviews_90 = np.quantile(num_reviews, .90)\n",
    "scaled_table['popularity'] = vibetable['popularity'].div(reviews_90).clip(upper=1)\n",
    "\n",
    "ratings = vibetable['enjoyability']\n",
    "ratings_90 = np.quantile(ratings, .90)\n",
    "scaled_table['enjoyability'] = np.log(vibetable['enjoyability'].div(ratings_90).clip(upper=1))"
   ]
  },
  {
   "cell_type": "code",
   "execution_count": 22,
   "metadata": {
    "colab": {
     "base_uri": "https://localhost:8080/",
     "height": 419
    },
    "colab_type": "code",
    "id": "wxbp2ItFQjkF",
    "outputId": "876463ff-21cc-4857-d677-82148648a8e6"
   },
   "outputs": [],
   "source": [
    "scaled_table.to_csv(\"dist/data/vibetable.csv\", index=False)\n",
    "scaled_table.to_json(\"dist/data/vibetable.json\", orient='index')"
   ]
  },
  {
   "cell_type": "code",
   "execution_count": null,
   "metadata": {},
   "outputs": [],
   "source": [
    "import matplotlib.pyplot as plt\n",
    "plt.hist(scaled_table['rating'], bins=50)"
   ]
  },
  {
   "cell_type": "code",
   "execution_count": null,
   "metadata": {},
   "outputs": [],
   "source": [
    "df_listings.iloc[1]['id']"
   ]
  },
  {
   "cell_type": "code",
   "execution_count": null,
   "metadata": {},
   "outputs": [],
   "source": [
    "df_listings.loc[df_listings['id'] == 5506]['review_scores_rating'].values[0]"
   ]
  },
  {
   "cell_type": "code",
   "execution_count": null,
   "metadata": {},
   "outputs": [],
   "source": [
    "list(df_reviews)"
   ]
  },
  {
   "cell_type": "code",
   "execution_count": null,
   "metadata": {},
   "outputs": [],
   "source": [
    "df_reviews\n"
   ]
  },
  {
   "cell_type": "code",
   "execution_count": null,
   "metadata": {},
   "outputs": [],
   "source": [
    "len(df_reviews)"
   ]
  },
  {
   "cell_type": "code",
   "execution_count": null,
   "metadata": {},
   "outputs": [],
   "source": []
  }
 ],
 "metadata": {
  "celltoolbar": "Raw Cell Format",
  "colab": {
   "collapsed_sections": [],
   "name": "Airbnb Adjectives.ipynb",
   "provenance": [],
   "toc_visible": true
  },
  "kernelspec": {
   "display_name": "Python 3",
   "language": "python",
   "name": "python3"
  },
  "language_info": {
   "codemirror_mode": {
    "name": "ipython",
    "version": 3
   },
   "file_extension": ".py",
   "mimetype": "text/x-python",
   "name": "python",
   "nbconvert_exporter": "python",
   "pygments_lexer": "ipython3",
   "version": "3.7.7"
  }
 },
 "nbformat": 4,
 "nbformat_minor": 1
}
