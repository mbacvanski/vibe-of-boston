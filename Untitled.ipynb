{
 "cells": [
  {
   "cell_type": "code",
   "execution_count": 2,
   "metadata": {},
   "outputs": [],
   "source": [
    "from vaderSentiment.vaderSentiment import SentimentIntensityAnalyzer\n",
    "analyser = SentimentIntensityAnalyzer()\n",
    "import spacy\n",
    "nlp = spacy.load('en_core_web_sm')"
   ]
  },
  {
   "cell_type": "code",
   "execution_count": 6,
   "metadata": {},
   "outputs": [],
   "source": [
    "def calc_sentences(comments_list):\n",
    "  sentiment_sum = 0\n",
    "  sentence_count = 0\n",
    "  \n",
    "  for comment in comments_list:\n",
    "    doc = nlp(comment)\n",
    "    sentences = [sent.string.strip() for sent in doc.sents]\n",
    "    sentence_count += len(sentences)\n",
    "\n",
    "    for sentence in sentences:\n",
    "      score = analyser.polarity_scores(sentence)\n",
    "      sentiment_sum = sentiment_sum + score['compound']\n",
    "      \n",
    "  return sentiment_sum / sentence_count\n",
    "\n",
    "def calc_oneshot(comments_list):\n",
    "  all_comments = '  '.join(comments_list)\n",
    "  happiness = analyser.polarity_scores(all_comments)['compound']\n",
    "  return happiness\n"
   ]
  },
  {
   "cell_type": "code",
   "execution_count": 12,
   "metadata": {},
   "outputs": [
    {
     "name": "stdout",
     "output_type": "stream",
     "text": [
      "62 ms ± 2.42 ms per loop (mean ± std. dev. of 7 runs, 1 loop each)\n"
     ]
    }
   ],
   "source": [
    "%timeit calc_sentences(['I really enjoyed this.', 'This was a great use of my time.', 'Contrary to my expectations, I did enjoy this a lot.', 'I am unfortunately very busy this week', 'No worries mate.', 'Host was incredibly helpful'])"
   ]
  },
  {
   "cell_type": "code",
   "execution_count": 11,
   "metadata": {},
   "outputs": [
    {
     "name": "stdout",
     "output_type": "stream",
     "text": [
      "611 µs ± 13.8 µs per loop (mean ± std. dev. of 7 runs, 1000 loops each)\n"
     ]
    }
   ],
   "source": [
    "%timeit calc_oneshot(['I really enjoyed this.', 'This was a great use of my time.', 'Contrary to my expectations, I did enjoy this a lot.', 'I am unfortunately very busy this week', 'No worries mate.', 'Host was incredibly helpful'])"
   ]
  },
  {
   "cell_type": "code",
   "execution_count": null,
   "metadata": {},
   "outputs": [],
   "source": []
  }
 ],
 "metadata": {
  "kernelspec": {
   "display_name": "Python [conda env:vibe-of-boston] *",
   "language": "python",
   "name": "conda-env-vibe-of-boston-py"
  },
  "language_info": {
   "codemirror_mode": {
    "name": "ipython",
    "version": 3
   },
   "file_extension": ".py",
   "mimetype": "text/x-python",
   "name": "python",
   "nbconvert_exporter": "python",
   "pygments_lexer": "ipython3",
   "version": "3.7.7"
  }
 },
 "nbformat": 4,
 "nbformat_minor": 4
}
